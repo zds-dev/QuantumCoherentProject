{
 "cells": [
  {
   "cell_type": "code",
   "execution_count": 20,
   "id": "initial_id",
   "metadata": {
    "collapsed": true,
    "ExecuteTime": {
     "end_time": "2023-12-22T11:49:15.521205600Z",
     "start_time": "2023-12-22T11:49:14.911831500Z"
    }
   },
   "outputs": [],
   "source": [
    "# Connect to Quantum Inspire QI using TOKEN file.\n",
    "import models.connect_quantum_inspire as qi_tools\n",
    "import importlib\n",
    "from qiskit import execute\n",
    "from qiskit.circuit import QuantumRegister, ClassicalRegister, QuantumCircuit\n",
    "\n",
    "importlib.reload(qi_tools)\n",
    "qi_tools.connect_qi('../TOKEN')"
   ]
  },
  {
   "cell_type": "code",
   "execution_count": 19,
   "outputs": [],
   "source": [
    "from quantuminspire.qiskit import QI\n",
    "qi_backend = QI.get_backend('QX single-node simulator')"
   ],
   "metadata": {
    "collapsed": false,
    "ExecuteTime": {
     "end_time": "2023-12-22T11:48:28.438958700Z",
     "start_time": "2023-12-22T11:48:27.969869100Z"
    }
   },
   "id": "7975b5c8daa51a87"
  },
  {
   "cell_type": "code",
   "execution_count": 23,
   "outputs": [
    {
     "name": "stdout",
     "output_type": "stream",
     "text": [
      "\n",
      "State\tCounts\n",
      "00\t\t122\n",
      "11\t\t134\n",
      "\n",
      "State\tProbabilities\n",
      "00\t\t0.4765625\n",
      "11\t\t0.5234375\n"
     ]
    },
    {
     "data": {
      "text/plain": "[None, None]"
     },
     "execution_count": 23,
     "metadata": {},
     "output_type": "execute_result"
    }
   ],
   "source": [
    "q = QuantumRegister(2)\n",
    "b = ClassicalRegister(2)\n",
    "circuit = QuantumCircuit(q, b)\n",
    "\n",
    "circuit.h(q[0])\n",
    "circuit.cx(q[0], q[1])\n",
    "circuit.z(q[0])\n",
    "circuit.measure(q, b)\n",
    "\n",
    "qi_job = execute(circuit, backend=qi_backend, shots=256)\n",
    "qi_result = qi_job.result()\n",
    "histogram = qi_result.get_counts(circuit)\n",
    "print('\\nState\\tCounts')\n",
    "[print('{0}\\t\\t{1}'.format(state, counts)) for state, counts in histogram.items()]\n",
    "# Print the full state probabilities histogram\n",
    "probabilities_histogram = qi_result.get_probabilities(circuit)\n",
    "print('\\nState\\tProbabilities')\n",
    "[print('{0}\\t\\t{1}'.format(state, val)) for state, val in probabilities_histogram.items()]"
   ],
   "metadata": {
    "collapsed": false,
    "ExecuteTime": {
     "end_time": "2023-12-22T11:55:08.102749300Z",
     "start_time": "2023-12-22T11:55:04.077939Z"
    }
   },
   "id": "357137444bb48b7f"
  },
  {
   "cell_type": "code",
   "execution_count": null,
   "outputs": [],
   "source": [],
   "metadata": {
    "collapsed": false
   },
   "id": "95a7d7d93d3c5bca"
  }
 ],
 "metadata": {
  "kernelspec": {
   "display_name": "Python 3",
   "language": "python",
   "name": "python3"
  },
  "language_info": {
   "codemirror_mode": {
    "name": "ipython",
    "version": 2
   },
   "file_extension": ".py",
   "mimetype": "text/x-python",
   "name": "python",
   "nbconvert_exporter": "python",
   "pygments_lexer": "ipython2",
   "version": "2.7.6"
  }
 },
 "nbformat": 4,
 "nbformat_minor": 5
}
